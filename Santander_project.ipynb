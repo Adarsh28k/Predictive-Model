{
 "cells": [
  {
   "cell_type": "markdown",
   "metadata": {},
   "source": [
    "# SANTANDER EDA AND PREDICTION"
   ]
  },
  {
   "cell_type": "code",
   "execution_count": 1,
   "metadata": {},
   "outputs": [
    {
     "name": "stdout",
     "output_type": "stream",
     "text": [
      "Populating the interactive namespace from numpy and matplotlib\n"
     ]
    }
   ],
   "source": [
    "#for data vizualisation and data pre-processing\n",
    "import numpy as np\n",
    "import pandas as pd\n",
    "import matplotlib.pyplot as plt\n",
    "%pylab inline\n",
    "pylab.rcParams['figure.figsize'] = (10, 6) \n",
    "import seaborn as sns\n",
    "import warnings\n",
    "warnings.filterwarnings('ignore')\n",
    "\n",
    "#for incoding\n",
    "from sklearn.preprocessing import LabelEncoder\n",
    "\n",
    "# for model selection\n",
    "from sklearn.linear_model import LogisticRegression\n",
    "from sklearn.linear_model import RidgeClassifier\n",
    "from sklearn.ensemble import RandomForestClassifier \n",
    "from sklearn.ensemble import ExtraTreesClassifier\n",
    "from sklearn.ensemble import BaggingClassifier\n",
    "from sklearn.ensemble import GradientBoostingClassifier\n",
    "from sklearn.neural_network import MLPClassifier\n",
    "from xgboost import XGBClassifier\n",
    "# for cross validation\n",
    "from sklearn.model_selection import KFold, cross_val_score\n",
    "from sklearn.metrics import roc_auc_score\n",
    "from collections import defaultdict\n",
    "\n",
    "# for hyperparameter tuning\n",
    "from sklearn.model_selection import GridSearchCV\n",
    "from bayes_opt import BayesianOptimization\n",
    "\n",
    "from sklearn.preprocessing import RobustScaler\n",
    "from sklearn.preprocessing import MinMaxScaler\n",
    "from sklearn.preprocessing import StandardScaler"
   ]
  },
  {
   "cell_type": "markdown",
   "metadata": {},
   "source": [
    "https://www.kaggle.com/gpreda/santander-eda-and-prediction"
   ]
  },
  {
   "cell_type": "code",
   "execution_count": 2,
   "metadata": {},
   "outputs": [
    {
     "data": {
      "text/html": [
       "<div>\n",
       "<style scoped>\n",
       "    .dataframe tbody tr th:only-of-type {\n",
       "        vertical-align: middle;\n",
       "    }\n",
       "\n",
       "    .dataframe tbody tr th {\n",
       "        vertical-align: top;\n",
       "    }\n",
       "\n",
       "    .dataframe thead th {\n",
       "        text-align: right;\n",
       "    }\n",
       "</style>\n",
       "<table border=\"1\" class=\"dataframe\">\n",
       "  <thead>\n",
       "    <tr style=\"text-align: right;\">\n",
       "      <th></th>\n",
       "      <th>fecha_dato</th>\n",
       "      <th>ncodpers</th>\n",
       "      <th>ind_empleado</th>\n",
       "      <th>pais_residencia</th>\n",
       "      <th>sexo</th>\n",
       "      <th>age</th>\n",
       "      <th>fecha_alta</th>\n",
       "      <th>ind_nuevo</th>\n",
       "      <th>antiguedad</th>\n",
       "      <th>indrel</th>\n",
       "      <th>...</th>\n",
       "      <th>ind_plan_fin_ult1</th>\n",
       "      <th>ind_pres_fin_ult1</th>\n",
       "      <th>ind_reca_fin_ult1</th>\n",
       "      <th>ind_tjcr_fin_ult1</th>\n",
       "      <th>ind_valo_fin_ult1</th>\n",
       "      <th>ind_viv_fin_ult1</th>\n",
       "      <th>ind_nomina_ult1</th>\n",
       "      <th>ind_nom_pens_ult1</th>\n",
       "      <th>ind_recibo_ult1</th>\n",
       "      <th>month</th>\n",
       "    </tr>\n",
       "  </thead>\n",
       "  <tbody>\n",
       "    <tr>\n",
       "      <th>0</th>\n",
       "      <td>1/28/2015</td>\n",
       "      <td>1050622</td>\n",
       "      <td>N</td>\n",
       "      <td>ES</td>\n",
       "      <td>H</td>\n",
       "      <td>23.0</td>\n",
       "      <td>8/10/2012</td>\n",
       "      <td>0</td>\n",
       "      <td>35</td>\n",
       "      <td>1.0</td>\n",
       "      <td>...</td>\n",
       "      <td>0</td>\n",
       "      <td>0</td>\n",
       "      <td>0</td>\n",
       "      <td>0</td>\n",
       "      <td>0</td>\n",
       "      <td>0</td>\n",
       "      <td>0.0</td>\n",
       "      <td>0.0</td>\n",
       "      <td>0</td>\n",
       "      <td>1</td>\n",
       "    </tr>\n",
       "    <tr>\n",
       "      <th>1</th>\n",
       "      <td>1/28/2015</td>\n",
       "      <td>1050492</td>\n",
       "      <td>N</td>\n",
       "      <td>ES</td>\n",
       "      <td>V</td>\n",
       "      <td>25.0</td>\n",
       "      <td>8/10/2012</td>\n",
       "      <td>0</td>\n",
       "      <td>35</td>\n",
       "      <td>1.0</td>\n",
       "      <td>...</td>\n",
       "      <td>0</td>\n",
       "      <td>0</td>\n",
       "      <td>0</td>\n",
       "      <td>0</td>\n",
       "      <td>0</td>\n",
       "      <td>0</td>\n",
       "      <td>0.0</td>\n",
       "      <td>0.0</td>\n",
       "      <td>0</td>\n",
       "      <td>1</td>\n",
       "    </tr>\n",
       "    <tr>\n",
       "      <th>2</th>\n",
       "      <td>1/28/2015</td>\n",
       "      <td>1050571</td>\n",
       "      <td>N</td>\n",
       "      <td>ES</td>\n",
       "      <td>H</td>\n",
       "      <td>23.0</td>\n",
       "      <td>8/10/2012</td>\n",
       "      <td>0</td>\n",
       "      <td>35</td>\n",
       "      <td>1.0</td>\n",
       "      <td>...</td>\n",
       "      <td>0</td>\n",
       "      <td>0</td>\n",
       "      <td>0</td>\n",
       "      <td>0</td>\n",
       "      <td>0</td>\n",
       "      <td>0</td>\n",
       "      <td>0.0</td>\n",
       "      <td>0.0</td>\n",
       "      <td>0</td>\n",
       "      <td>1</td>\n",
       "    </tr>\n",
       "    <tr>\n",
       "      <th>3</th>\n",
       "      <td>1/28/2015</td>\n",
       "      <td>1050915</td>\n",
       "      <td>N</td>\n",
       "      <td>ES</td>\n",
       "      <td>H</td>\n",
       "      <td>37.0</td>\n",
       "      <td>8/10/2012</td>\n",
       "      <td>0</td>\n",
       "      <td>35</td>\n",
       "      <td>1.0</td>\n",
       "      <td>...</td>\n",
       "      <td>0</td>\n",
       "      <td>0</td>\n",
       "      <td>0</td>\n",
       "      <td>0</td>\n",
       "      <td>0</td>\n",
       "      <td>0</td>\n",
       "      <td>0.0</td>\n",
       "      <td>0.0</td>\n",
       "      <td>0</td>\n",
       "      <td>1</td>\n",
       "    </tr>\n",
       "    <tr>\n",
       "      <th>4</th>\n",
       "      <td>1/28/2015</td>\n",
       "      <td>1050732</td>\n",
       "      <td>N</td>\n",
       "      <td>ES</td>\n",
       "      <td>H</td>\n",
       "      <td>23.0</td>\n",
       "      <td>8/10/2012</td>\n",
       "      <td>0</td>\n",
       "      <td>35</td>\n",
       "      <td>1.0</td>\n",
       "      <td>...</td>\n",
       "      <td>0</td>\n",
       "      <td>0</td>\n",
       "      <td>0</td>\n",
       "      <td>0</td>\n",
       "      <td>0</td>\n",
       "      <td>0</td>\n",
       "      <td>0.0</td>\n",
       "      <td>0.0</td>\n",
       "      <td>0</td>\n",
       "      <td>1</td>\n",
       "    </tr>\n",
       "  </tbody>\n",
       "</table>\n",
       "<p>5 rows × 49 columns</p>\n",
       "</div>"
      ],
      "text/plain": [
       "  fecha_dato  ncodpers ind_empleado pais_residencia sexo   age fecha_alta  \\\n",
       "0  1/28/2015   1050622            N              ES    H  23.0  8/10/2012   \n",
       "1  1/28/2015   1050492            N              ES    V  25.0  8/10/2012   \n",
       "2  1/28/2015   1050571            N              ES    H  23.0  8/10/2012   \n",
       "3  1/28/2015   1050915            N              ES    H  37.0  8/10/2012   \n",
       "4  1/28/2015   1050732            N              ES    H  23.0  8/10/2012   \n",
       "\n",
       "  ind_nuevo antiguedad  indrel  ... ind_plan_fin_ult1 ind_pres_fin_ult1  \\\n",
       "0         0         35     1.0  ...                 0                 0   \n",
       "1         0         35     1.0  ...                 0                 0   \n",
       "2         0         35     1.0  ...                 0                 0   \n",
       "3         0         35     1.0  ...                 0                 0   \n",
       "4         0         35     1.0  ...                 0                 0   \n",
       "\n",
       "  ind_reca_fin_ult1 ind_tjcr_fin_ult1 ind_valo_fin_ult1 ind_viv_fin_ult1  \\\n",
       "0                 0                 0                 0                0   \n",
       "1                 0                 0                 0                0   \n",
       "2                 0                 0                 0                0   \n",
       "3                 0                 0                 0                0   \n",
       "4                 0                 0                 0                0   \n",
       "\n",
       "  ind_nomina_ult1 ind_nom_pens_ult1  ind_recibo_ult1  month  \n",
       "0             0.0               0.0                0      1  \n",
       "1             0.0               0.0                0      1  \n",
       "2             0.0               0.0                0      1  \n",
       "3             0.0               0.0                0      1  \n",
       "4             0.0               0.0                0      1  \n",
       "\n",
       "[5 rows x 49 columns]"
      ]
     },
     "execution_count": 2,
     "metadata": {},
     "output_type": "execute_result"
    }
   ],
   "source": [
    "# Calibrate the number of rows to not crash the kernel \n",
    "df           = pd.read_csv(\"train_ver2.csv\",dtype={\"sexo\":str,\n",
    "                                                    \"ind_nuevo\":str,\n",
    "                                                    \"ult_fec_cli_1t\":str,\n",
    "                                                    \"indext\":str})\n",
    "test           = pd.read_csv(\"test_ver2.csv\",dtype={\"sexo\":str,\n",
    "                                                    \"ind_nuevo\":str,\n",
    "                                                    \"ult_fec_cli_1t\":str,\n",
    "                                                    \"indext\":str})\n",
    "\n",
    "# Format to datetime data,maybe the month of the year is important to purchase\n",
    "\n",
    "df[\"month\"] = pd.DatetimeIndex(df[\"fecha_dato\"]).month\n",
    "df[\"age\"]   = pd.to_numeric(df[\"age\"], errors=\"coerce\")\n",
    "# Not very sure just to keep with unique_ids 'cause principal id is fecha_dato + ncodpers and if we\n",
    "# eliminate repeated ncodpers we lose some important information.\n",
    "#We take unique_ids and unique fecha_datos just to play forward.\n",
    "unique_ids   = pd.Series(df[\"ncodpers\"].unique())\n",
    "unique_fecha_dato = df[\"fecha_dato\"].unique()\n",
    "df.head()\n"
   ]
  },
  {
   "cell_type": "code",
   "execution_count": 3,
   "metadata": {},
   "outputs": [
    {
     "name": "stdout",
     "output_type": "stream",
     "text": [
      "(50000, 49) (38171, 24)\n"
     ]
    }
   ],
   "source": [
    "print(df.shape,test.shape)"
   ]
  },
  {
   "cell_type": "code",
   "execution_count": 4,
   "metadata": {},
   "outputs": [
    {
     "data": {
      "text/plain": [
       "fecha_dato                   0\n",
       "ncodpers                     0\n",
       "ind_empleado               109\n",
       "pais_residencia            109\n",
       "sexo                       109\n",
       "age                        109\n",
       "fecha_alta                 109\n",
       "ind_nuevo                  109\n",
       "antiguedad                   0\n",
       "indrel                     109\n",
       "ult_fec_cli_1t           49910\n",
       "indrel_1mes                544\n",
       "tiprel_1mes                544\n",
       "indresi                    109\n",
       "indext                     109\n",
       "conyuemp                 49995\n",
       "canal_entrada              683\n",
       "indfall                    109\n",
       "tipodom                    109\n",
       "cod_prov                   340\n",
       "nomprov                    340\n",
       "ind_actividad_cliente      109\n",
       "renta                    10375\n",
       "segmento                   694\n",
       "ind_ahor_fin_ult1            0\n",
       "ind_aval_fin_ult1            0\n",
       "ind_cco_fin_ult1             0\n",
       "ind_cder_fin_ult1            0\n",
       "ind_cno_fin_ult1             0\n",
       "ind_ctju_fin_ult1            0\n",
       "ind_ctma_fin_ult1            0\n",
       "ind_ctop_fin_ult1            0\n",
       "ind_ctpp_fin_ult1            0\n",
       "ind_deco_fin_ult1            0\n",
       "ind_deme_fin_ult1            0\n",
       "ind_dela_fin_ult1            0\n",
       "ind_ecue_fin_ult1            0\n",
       "ind_fond_fin_ult1            0\n",
       "ind_hip_fin_ult1             0\n",
       "ind_plan_fin_ult1            0\n",
       "ind_pres_fin_ult1            0\n",
       "ind_reca_fin_ult1            0\n",
       "ind_tjcr_fin_ult1            0\n",
       "ind_valo_fin_ult1            0\n",
       "ind_viv_fin_ult1             0\n",
       "ind_nomina_ult1             64\n",
       "ind_nom_pens_ult1           64\n",
       "ind_recibo_ult1              0\n",
       "month                        0\n",
       "dtype: int64"
      ]
     },
     "execution_count": 4,
     "metadata": {},
     "output_type": "execute_result"
    }
   ],
   "source": [
    "df.isnull().sum()"
   ]
  },
  {
   "cell_type": "code",
   "execution_count": 5,
   "metadata": {},
   "outputs": [
    {
     "data": {
      "text/plain": [
       "fecha_dato                   0\n",
       "ncodpers                     0\n",
       "ind_empleado                 0\n",
       "pais_residencia              0\n",
       "sexo                         0\n",
       "age                          0\n",
       "fecha_alta                   0\n",
       "ind_nuevo                    0\n",
       "antiguedad                   0\n",
       "indrel                       0\n",
       "ult_fec_cli_1t           38127\n",
       "indrel_1mes                  0\n",
       "tiprel_1mes                  0\n",
       "indresi                      0\n",
       "indext                       0\n",
       "conyuemp                 38170\n",
       "canal_entrada                0\n",
       "indfall                      0\n",
       "tipodom                      0\n",
       "cod_prov                    20\n",
       "nomprov                     20\n",
       "ind_actividad_cliente        0\n",
       "renta                        0\n",
       "segmento                     1\n",
       "dtype: int64"
      ]
     },
     "execution_count": 5,
     "metadata": {},
     "output_type": "execute_result"
    }
   ],
   "source": [
    "test.isnull().sum()"
   ]
  },
  {
   "cell_type": "markdown",
   "metadata": {},
   "source": [
    "# DATA PREPROCESSING"
   ]
  },
  {
   "cell_type": "code",
   "execution_count": 6,
   "metadata": {},
   "outputs": [
    {
     "name": "stdout",
     "output_type": "stream",
     "text": [
      "Number of customers in train :  48695\n",
      "Number of customers in test :  38171\n",
      "Number of common customers :  2237\n"
     ]
    }
   ],
   "source": [
    "train_unique_customers = set(df.ncodpers.unique())\n",
    "test_unique_customers = set(test.ncodpers.unique())\n",
    "print(\"Number of customers in train : \", len(train_unique_customers))\n",
    "print(\"Number of customers in test : \", len(test_unique_customers))\n",
    "print(\"Number of common customers : \", len(train_unique_customers.intersection(test_unique_customers)))\n",
    "#finding out the number of unique customers in train and test and number of common customers in both\n",
    "#because for increasing our accuracy this is what we need to focus on"
   ]
  },
  {
   "cell_type": "code",
   "execution_count": 7,
   "metadata": {},
   "outputs": [
    {
     "data": {
      "text/plain": [
       "fecha_dato                object\n",
       "ncodpers                   int64\n",
       "ind_empleado              object\n",
       "pais_residencia           object\n",
       "sexo                      object\n",
       "age                      float64\n",
       "fecha_alta                object\n",
       "ind_nuevo                 object\n",
       "antiguedad                object\n",
       "indrel                   float64\n",
       "ult_fec_cli_1t            object\n",
       "indrel_1mes               object\n",
       "tiprel_1mes               object\n",
       "indresi                   object\n",
       "indext                    object\n",
       "conyuemp                  object\n",
       "canal_entrada             object\n",
       "indfall                   object\n",
       "tipodom                  float64\n",
       "cod_prov                 float64\n",
       "nomprov                   object\n",
       "ind_actividad_cliente    float64\n",
       "renta                    float64\n",
       "segmento                  object\n",
       "ind_ahor_fin_ult1          int64\n",
       "ind_aval_fin_ult1          int64\n",
       "ind_cco_fin_ult1           int64\n",
       "ind_cder_fin_ult1          int64\n",
       "ind_cno_fin_ult1           int64\n",
       "ind_ctju_fin_ult1          int64\n",
       "ind_ctma_fin_ult1          int64\n",
       "ind_ctop_fin_ult1          int64\n",
       "ind_ctpp_fin_ult1          int64\n",
       "ind_deco_fin_ult1          int64\n",
       "ind_deme_fin_ult1          int64\n",
       "ind_dela_fin_ult1          int64\n",
       "ind_ecue_fin_ult1          int64\n",
       "ind_fond_fin_ult1          int64\n",
       "ind_hip_fin_ult1           int64\n",
       "ind_plan_fin_ult1          int64\n",
       "ind_pres_fin_ult1          int64\n",
       "ind_reca_fin_ult1          int64\n",
       "ind_tjcr_fin_ult1          int64\n",
       "ind_valo_fin_ult1          int64\n",
       "ind_viv_fin_ult1           int64\n",
       "ind_nomina_ult1          float64\n",
       "ind_nom_pens_ult1        float64\n",
       "ind_recibo_ult1            int64\n",
       "month                      int64\n",
       "dtype: object"
      ]
     },
     "execution_count": 7,
     "metadata": {},
     "output_type": "execute_result"
    }
   ],
   "source": [
    "df.dtypes"
   ]
  },
  {
   "cell_type": "code",
   "execution_count": 8,
   "metadata": {},
   "outputs": [],
   "source": [
    "# Change datatype\n",
    "# We need to convert datatypes into suitable format\n",
    "df[\"age\"]   = pd.to_numeric(df[\"age\"], errors=\"coerce\") \n",
    "df[\"antiguedad\"]   = pd.to_numeric(df[\"antiguedad\"], errors=\"coerce\") \n",
    "df[\"indrel_1mes\"]   = pd.to_numeric(df[\"indrel_1mes\"], errors=\"coerce\") \n",
    "#coerce means the errors will be filled as NaN values"
   ]
  },
  {
   "cell_type": "code",
   "execution_count": 9,
   "metadata": {},
   "outputs": [
    {
     "name": "stdout",
     "output_type": "stream",
     "text": [
      "<class 'pandas.core.frame.DataFrame'>\n",
      "RangeIndex: 50000 entries, 0 to 49999\n",
      "Data columns (total 49 columns):\n",
      "fecha_dato               50000 non-null object\n",
      "ncodpers                 50000 non-null int64\n",
      "ind_empleado             49891 non-null object\n",
      "pais_residencia          49891 non-null object\n",
      "sexo                     49891 non-null object\n",
      "age                      49891 non-null float64\n",
      "fecha_alta               49891 non-null object\n",
      "ind_nuevo                49891 non-null object\n",
      "antiguedad               49891 non-null float64\n",
      "indrel                   49891 non-null float64\n",
      "ult_fec_cli_1t           90 non-null object\n",
      "indrel_1mes              49452 non-null float64\n",
      "tiprel_1mes              49456 non-null object\n",
      "indresi                  49891 non-null object\n",
      "indext                   49891 non-null object\n",
      "conyuemp                 5 non-null object\n",
      "canal_entrada            49317 non-null object\n",
      "indfall                  49891 non-null object\n",
      "tipodom                  49891 non-null float64\n",
      "cod_prov                 49660 non-null float64\n",
      "nomprov                  49660 non-null object\n",
      "ind_actividad_cliente    49891 non-null float64\n",
      "renta                    39625 non-null float64\n",
      "segmento                 49306 non-null object\n",
      "ind_ahor_fin_ult1        50000 non-null int64\n",
      "ind_aval_fin_ult1        50000 non-null int64\n",
      "ind_cco_fin_ult1         50000 non-null int64\n",
      "ind_cder_fin_ult1        50000 non-null int64\n",
      "ind_cno_fin_ult1         50000 non-null int64\n",
      "ind_ctju_fin_ult1        50000 non-null int64\n",
      "ind_ctma_fin_ult1        50000 non-null int64\n",
      "ind_ctop_fin_ult1        50000 non-null int64\n",
      "ind_ctpp_fin_ult1        50000 non-null int64\n",
      "ind_deco_fin_ult1        50000 non-null int64\n",
      "ind_deme_fin_ult1        50000 non-null int64\n",
      "ind_dela_fin_ult1        50000 non-null int64\n",
      "ind_ecue_fin_ult1        50000 non-null int64\n",
      "ind_fond_fin_ult1        50000 non-null int64\n",
      "ind_hip_fin_ult1         50000 non-null int64\n",
      "ind_plan_fin_ult1        50000 non-null int64\n",
      "ind_pres_fin_ult1        50000 non-null int64\n",
      "ind_reca_fin_ult1        50000 non-null int64\n",
      "ind_tjcr_fin_ult1        50000 non-null int64\n",
      "ind_valo_fin_ult1        50000 non-null int64\n",
      "ind_viv_fin_ult1         50000 non-null int64\n",
      "ind_nomina_ult1          49936 non-null float64\n",
      "ind_nom_pens_ult1        49936 non-null float64\n",
      "ind_recibo_ult1          50000 non-null int64\n",
      "month                    50000 non-null int64\n",
      "dtypes: float64(10), int64(24), object(15)\n",
      "memory usage: 18.7+ MB\n"
     ]
    }
   ],
   "source": [
    "df.info()"
   ]
  },
  {
   "cell_type": "code",
   "execution_count": 10,
   "metadata": {},
   "outputs": [
    {
     "data": {
      "text/plain": [
       "fecha_dato                   0\n",
       "ncodpers                     0\n",
       "ind_empleado               109\n",
       "pais_residencia            109\n",
       "sexo                       109\n",
       "age                        109\n",
       "fecha_alta                 109\n",
       "ind_nuevo                  109\n",
       "antiguedad                 109\n",
       "indrel                     109\n",
       "ult_fec_cli_1t           49910\n",
       "indrel_1mes                548\n",
       "tiprel_1mes                544\n",
       "indresi                    109\n",
       "indext                     109\n",
       "conyuemp                 49995\n",
       "canal_entrada              683\n",
       "indfall                    109\n",
       "tipodom                    109\n",
       "cod_prov                   340\n",
       "nomprov                    340\n",
       "ind_actividad_cliente      109\n",
       "renta                    10375\n",
       "segmento                   694\n",
       "ind_ahor_fin_ult1            0\n",
       "ind_aval_fin_ult1            0\n",
       "ind_cco_fin_ult1             0\n",
       "ind_cder_fin_ult1            0\n",
       "ind_cno_fin_ult1             0\n",
       "ind_ctju_fin_ult1            0\n",
       "ind_ctma_fin_ult1            0\n",
       "ind_ctop_fin_ult1            0\n",
       "ind_ctpp_fin_ult1            0\n",
       "ind_deco_fin_ult1            0\n",
       "ind_deme_fin_ult1            0\n",
       "ind_dela_fin_ult1            0\n",
       "ind_ecue_fin_ult1            0\n",
       "ind_fond_fin_ult1            0\n",
       "ind_hip_fin_ult1             0\n",
       "ind_plan_fin_ult1            0\n",
       "ind_pres_fin_ult1            0\n",
       "ind_reca_fin_ult1            0\n",
       "ind_tjcr_fin_ult1            0\n",
       "ind_valo_fin_ult1            0\n",
       "ind_viv_fin_ult1             0\n",
       "ind_nomina_ult1             64\n",
       "ind_nom_pens_ult1           64\n",
       "ind_recibo_ult1              0\n",
       "month                        0\n",
       "dtype: int64"
      ]
     },
     "execution_count": 10,
     "metadata": {},
     "output_type": "execute_result"
    }
   ],
   "source": [
    "df.isnull().sum()"
   ]
  },
  {
   "cell_type": "markdown",
   "metadata": {},
   "source": [
    "There are two columns (\"ult_fec_cli_1t\", \"conyuemp\") with almost all values are missing. We are going to delete them from the dataframe.\n",
    "We delete this because there are too many empty values if we try to fill them we have no basis on which we can do this\n",
    "Thus we will be putting wrong datapoints in our dataset which is going to affect our model.\n"
   ]
  },
  {
   "cell_type": "code",
   "execution_count": 11,
   "metadata": {},
   "outputs": [],
   "source": [
    "# Drop the columns with majority of missing values\n",
    "df = df.drop([\"ult_fec_cli_1t\", \"conyuemp\"], axis=1) "
   ]
  },
  {
   "cell_type": "markdown",
   "metadata": {},
   "source": [
    "We are going to fill column:'renta' because it has 10000 which is 20 percent so we are going to fill it"
   ]
  },
  {
   "cell_type": "code",
   "execution_count": 12,
   "metadata": {},
   "outputs": [],
   "source": [
    "#Impute missing values in the income column \n",
    "grouped        = df.groupby(\"nomprov\").agg({\"renta\":lambda x: x.median(skipna=True)}).reset_index()\n",
    "new_incomes    = pd.merge(df,grouped,how=\"inner\",on=\"nomprov\").loc[:, [\"nomprov\",\"renta_y\"]]\n",
    "new_incomes    = new_incomes.rename(columns={\"renta_y\":\"renta\"})\n",
    "df.sort_values(\"nomprov\",inplace=True)\n",
    "df             = df.reset_index()\n",
    "new_incomes    = new_incomes.reset_index()\n",
    "\n",
    "df.loc[df.renta.isnull(),\"renta\"] = new_incomes.loc[df.renta.isnull(),\"renta\"].reset_index()\n",
    "df.loc[df.renta.isnull(),\"renta\"] = df.loc[df.renta.notnull(),\"renta\"].median()\n",
    "df.sort_values(by=\"fecha_dato\",inplace=True)"
   ]
  },
  {
   "cell_type": "code",
   "execution_count": 13,
   "metadata": {},
   "outputs": [
    {
     "data": {
      "text/html": [
       "<div>\n",
       "<style scoped>\n",
       "    .dataframe tbody tr th:only-of-type {\n",
       "        vertical-align: middle;\n",
       "    }\n",
       "\n",
       "    .dataframe tbody tr th {\n",
       "        vertical-align: top;\n",
       "    }\n",
       "\n",
       "    .dataframe thead th {\n",
       "        text-align: right;\n",
       "    }\n",
       "</style>\n",
       "<table border=\"1\" class=\"dataframe\">\n",
       "  <thead>\n",
       "    <tr style=\"text-align: right;\">\n",
       "      <th></th>\n",
       "      <th>index</th>\n",
       "      <th>fecha_dato</th>\n",
       "      <th>ncodpers</th>\n",
       "      <th>ind_empleado</th>\n",
       "      <th>pais_residencia</th>\n",
       "      <th>sexo</th>\n",
       "      <th>age</th>\n",
       "      <th>fecha_alta</th>\n",
       "      <th>ind_nuevo</th>\n",
       "      <th>antiguedad</th>\n",
       "      <th>...</th>\n",
       "      <th>ind_plan_fin_ult1</th>\n",
       "      <th>ind_pres_fin_ult1</th>\n",
       "      <th>ind_reca_fin_ult1</th>\n",
       "      <th>ind_tjcr_fin_ult1</th>\n",
       "      <th>ind_valo_fin_ult1</th>\n",
       "      <th>ind_viv_fin_ult1</th>\n",
       "      <th>ind_nomina_ult1</th>\n",
       "      <th>ind_nom_pens_ult1</th>\n",
       "      <th>ind_recibo_ult1</th>\n",
       "      <th>month</th>\n",
       "    </tr>\n",
       "  </thead>\n",
       "  <tbody>\n",
       "    <tr>\n",
       "      <th>32254</th>\n",
       "      <td>686</td>\n",
       "      <td>1/28/2015</td>\n",
       "      <td>1258037</td>\n",
       "      <td>N</td>\n",
       "      <td>ES</td>\n",
       "      <td>H</td>\n",
       "      <td>67.0</td>\n",
       "      <td>5/14/2014</td>\n",
       "      <td>0</td>\n",
       "      <td>14.0</td>\n",
       "      <td>...</td>\n",
       "      <td>0</td>\n",
       "      <td>0</td>\n",
       "      <td>0</td>\n",
       "      <td>0</td>\n",
       "      <td>0</td>\n",
       "      <td>0</td>\n",
       "      <td>0.0</td>\n",
       "      <td>0.0</td>\n",
       "      <td>1</td>\n",
       "      <td>1</td>\n",
       "    </tr>\n",
       "    <tr>\n",
       "      <th>47435</th>\n",
       "      <td>1866</td>\n",
       "      <td>1/28/2015</td>\n",
       "      <td>814768</td>\n",
       "      <td>N</td>\n",
       "      <td>ES</td>\n",
       "      <td>V</td>\n",
       "      <td>68.0</td>\n",
       "      <td>11/7/2008</td>\n",
       "      <td>0</td>\n",
       "      <td>80.0</td>\n",
       "      <td>...</td>\n",
       "      <td>0</td>\n",
       "      <td>0</td>\n",
       "      <td>0</td>\n",
       "      <td>0</td>\n",
       "      <td>0</td>\n",
       "      <td>0</td>\n",
       "      <td>0.0</td>\n",
       "      <td>0.0</td>\n",
       "      <td>0</td>\n",
       "      <td>1</td>\n",
       "    </tr>\n",
       "    <tr>\n",
       "      <th>14992</th>\n",
       "      <td>2112</td>\n",
       "      <td>1/28/2015</td>\n",
       "      <td>576712</td>\n",
       "      <td>N</td>\n",
       "      <td>ES</td>\n",
       "      <td>V</td>\n",
       "      <td>40.0</td>\n",
       "      <td>10/31/2005</td>\n",
       "      <td>0</td>\n",
       "      <td>117.0</td>\n",
       "      <td>...</td>\n",
       "      <td>1</td>\n",
       "      <td>0</td>\n",
       "      <td>0</td>\n",
       "      <td>0</td>\n",
       "      <td>1</td>\n",
       "      <td>0</td>\n",
       "      <td>0.0</td>\n",
       "      <td>0.0</td>\n",
       "      <td>0</td>\n",
       "      <td>1</td>\n",
       "    </tr>\n",
       "    <tr>\n",
       "      <th>47432</th>\n",
       "      <td>179</td>\n",
       "      <td>1/28/2015</td>\n",
       "      <td>1099132</td>\n",
       "      <td>N</td>\n",
       "      <td>ES</td>\n",
       "      <td>H</td>\n",
       "      <td>24.0</td>\n",
       "      <td>11/12/2012</td>\n",
       "      <td>0</td>\n",
       "      <td>32.0</td>\n",
       "      <td>...</td>\n",
       "      <td>0</td>\n",
       "      <td>0</td>\n",
       "      <td>0</td>\n",
       "      <td>0</td>\n",
       "      <td>0</td>\n",
       "      <td>0</td>\n",
       "      <td>0.0</td>\n",
       "      <td>0.0</td>\n",
       "      <td>0</td>\n",
       "      <td>1</td>\n",
       "    </tr>\n",
       "    <tr>\n",
       "      <th>32825</th>\n",
       "      <td>1412</td>\n",
       "      <td>1/28/2015</td>\n",
       "      <td>327741</td>\n",
       "      <td>N</td>\n",
       "      <td>ES</td>\n",
       "      <td>V</td>\n",
       "      <td>54.0</td>\n",
       "      <td>2/6/2002</td>\n",
       "      <td>0</td>\n",
       "      <td>161.0</td>\n",
       "      <td>...</td>\n",
       "      <td>0</td>\n",
       "      <td>0</td>\n",
       "      <td>0</td>\n",
       "      <td>0</td>\n",
       "      <td>0</td>\n",
       "      <td>0</td>\n",
       "      <td>0.0</td>\n",
       "      <td>0.0</td>\n",
       "      <td>0</td>\n",
       "      <td>1</td>\n",
       "    </tr>\n",
       "  </tbody>\n",
       "</table>\n",
       "<p>5 rows × 48 columns</p>\n",
       "</div>"
      ],
      "text/plain": [
       "       index fecha_dato  ncodpers ind_empleado pais_residencia sexo   age  \\\n",
       "32254    686  1/28/2015   1258037            N              ES    H  67.0   \n",
       "47435   1866  1/28/2015    814768            N              ES    V  68.0   \n",
       "14992   2112  1/28/2015    576712            N              ES    V  40.0   \n",
       "47432    179  1/28/2015   1099132            N              ES    H  24.0   \n",
       "32825   1412  1/28/2015    327741            N              ES    V  54.0   \n",
       "\n",
       "       fecha_alta ind_nuevo  antiguedad  ...  ind_plan_fin_ult1  \\\n",
       "32254   5/14/2014         0        14.0  ...                  0   \n",
       "47435   11/7/2008         0        80.0  ...                  0   \n",
       "14992  10/31/2005         0       117.0  ...                  1   \n",
       "47432  11/12/2012         0        32.0  ...                  0   \n",
       "32825    2/6/2002         0       161.0  ...                  0   \n",
       "\n",
       "       ind_pres_fin_ult1 ind_reca_fin_ult1 ind_tjcr_fin_ult1  \\\n",
       "32254                  0                 0                 0   \n",
       "47435                  0                 0                 0   \n",
       "14992                  0                 0                 0   \n",
       "47432                  0                 0                 0   \n",
       "32825                  0                 0                 0   \n",
       "\n",
       "      ind_valo_fin_ult1 ind_viv_fin_ult1 ind_nomina_ult1  ind_nom_pens_ult1  \\\n",
       "32254                 0                0             0.0                0.0   \n",
       "47435                 0                0             0.0                0.0   \n",
       "14992                 1                0             0.0                0.0   \n",
       "47432                 0                0             0.0                0.0   \n",
       "32825                 0                0             0.0                0.0   \n",
       "\n",
       "       ind_recibo_ult1 month  \n",
       "32254                1     1  \n",
       "47435                0     1  \n",
       "14992                0     1  \n",
       "47432                0     1  \n",
       "32825                0     1  \n",
       "\n",
       "[5 rows x 48 columns]"
      ]
     },
     "execution_count": 13,
     "metadata": {},
     "output_type": "execute_result"
    }
   ],
   "source": [
    "df.head()"
   ]
  },
  {
   "cell_type": "code",
   "execution_count": 14,
   "metadata": {},
   "outputs": [
    {
     "data": {
      "text/plain": [
       "index                      0\n",
       "fecha_dato                 0\n",
       "ncodpers                   0\n",
       "ind_empleado             109\n",
       "pais_residencia          109\n",
       "sexo                     109\n",
       "age                      109\n",
       "fecha_alta               109\n",
       "ind_nuevo                109\n",
       "antiguedad               109\n",
       "indrel                   109\n",
       "indrel_1mes              548\n",
       "tiprel_1mes              544\n",
       "indresi                  109\n",
       "indext                   109\n",
       "canal_entrada            683\n",
       "indfall                  109\n",
       "tipodom                  109\n",
       "cod_prov                 340\n",
       "nomprov                  340\n",
       "ind_actividad_cliente    109\n",
       "renta                      0\n",
       "segmento                 694\n",
       "ind_ahor_fin_ult1          0\n",
       "ind_aval_fin_ult1          0\n",
       "ind_cco_fin_ult1           0\n",
       "ind_cder_fin_ult1          0\n",
       "ind_cno_fin_ult1           0\n",
       "ind_ctju_fin_ult1          0\n",
       "ind_ctma_fin_ult1          0\n",
       "ind_ctop_fin_ult1          0\n",
       "ind_ctpp_fin_ult1          0\n",
       "ind_deco_fin_ult1          0\n",
       "ind_deme_fin_ult1          0\n",
       "ind_dela_fin_ult1          0\n",
       "ind_ecue_fin_ult1          0\n",
       "ind_fond_fin_ult1          0\n",
       "ind_hip_fin_ult1           0\n",
       "ind_plan_fin_ult1          0\n",
       "ind_pres_fin_ult1          0\n",
       "ind_reca_fin_ult1          0\n",
       "ind_tjcr_fin_ult1          0\n",
       "ind_valo_fin_ult1          0\n",
       "ind_viv_fin_ult1           0\n",
       "ind_nomina_ult1           64\n",
       "ind_nom_pens_ult1         64\n",
       "ind_recibo_ult1            0\n",
       "month                      0\n",
       "dtype: int64"
      ]
     },
     "execution_count": 14,
     "metadata": {},
     "output_type": "execute_result"
    }
   ],
   "source": [
    "df.isnull().sum()"
   ]
  },
  {
   "cell_type": "markdown",
   "metadata": {},
   "source": [
    "For other values only less than 2 percent of the values are missing \n",
    "So instead of filling them with values that may be not correct\n",
    "we are going to drop the null values"
   ]
  },
  {
   "cell_type": "code",
   "execution_count": 15,
   "metadata": {},
   "outputs": [],
   "source": [
    "# Dropping the null values\n",
    "df = df.dropna(axis=0)"
   ]
  },
  {
   "cell_type": "code",
   "execution_count": 16,
   "metadata": {},
   "outputs": [
    {
     "data": {
      "text/plain": [
       "index                    0\n",
       "fecha_dato               0\n",
       "ncodpers                 0\n",
       "ind_empleado             0\n",
       "pais_residencia          0\n",
       "sexo                     0\n",
       "age                      0\n",
       "fecha_alta               0\n",
       "ind_nuevo                0\n",
       "antiguedad               0\n",
       "indrel                   0\n",
       "indrel_1mes              0\n",
       "tiprel_1mes              0\n",
       "indresi                  0\n",
       "indext                   0\n",
       "canal_entrada            0\n",
       "indfall                  0\n",
       "tipodom                  0\n",
       "cod_prov                 0\n",
       "nomprov                  0\n",
       "ind_actividad_cliente    0\n",
       "renta                    0\n",
       "segmento                 0\n",
       "ind_ahor_fin_ult1        0\n",
       "ind_aval_fin_ult1        0\n",
       "ind_cco_fin_ult1         0\n",
       "ind_cder_fin_ult1        0\n",
       "ind_cno_fin_ult1         0\n",
       "ind_ctju_fin_ult1        0\n",
       "ind_ctma_fin_ult1        0\n",
       "ind_ctop_fin_ult1        0\n",
       "ind_ctpp_fin_ult1        0\n",
       "ind_deco_fin_ult1        0\n",
       "ind_deme_fin_ult1        0\n",
       "ind_dela_fin_ult1        0\n",
       "ind_ecue_fin_ult1        0\n",
       "ind_fond_fin_ult1        0\n",
       "ind_hip_fin_ult1         0\n",
       "ind_plan_fin_ult1        0\n",
       "ind_pres_fin_ult1        0\n",
       "ind_reca_fin_ult1        0\n",
       "ind_tjcr_fin_ult1        0\n",
       "ind_valo_fin_ult1        0\n",
       "ind_viv_fin_ult1         0\n",
       "ind_nomina_ult1          0\n",
       "ind_nom_pens_ult1        0\n",
       "ind_recibo_ult1          0\n",
       "month                    0\n",
       "dtype: int64"
      ]
     },
     "execution_count": 16,
     "metadata": {},
     "output_type": "execute_result"
    }
   ],
   "source": [
    "df.isnull().sum()"
   ]
  },
  {
   "cell_type": "code",
   "execution_count": 17,
   "metadata": {},
   "outputs": [
    {
     "data": {
      "text/plain": [
       "(49072, 48)"
      ]
     },
     "execution_count": 17,
     "metadata": {},
     "output_type": "execute_result"
    }
   ],
   "source": [
    "df.shape"
   ]
  },
  {
   "cell_type": "code",
   "execution_count": 18,
   "metadata": {},
   "outputs": [
    {
     "data": {
      "text/plain": [
       "ES    49072\n",
       "Name: pais_residencia, dtype: int64"
      ]
     },
     "execution_count": 18,
     "metadata": {},
     "output_type": "execute_result"
    }
   ],
   "source": [
    "df.pais_residencia.value_counts()\n",
    "# As we can see almost all values in this column has value from ES so we are going to take the value of ES only"
   ]
  },
  {
   "cell_type": "code",
   "execution_count": 19,
   "metadata": {},
   "outputs": [],
   "source": [
    "df = df.loc[lambda df: df.pais_residencia == \"ES\", :]"
   ]
  },
  {
   "cell_type": "code",
   "execution_count": 20,
   "metadata": {},
   "outputs": [],
   "source": [
    "# Replacing all value which is less than zero in seniority with zero\n",
    "df[df[\"antiguedad\"]<0] = 0"
   ]
  },
  {
   "cell_type": "code",
   "execution_count": 21,
   "metadata": {},
   "outputs": [],
   "source": [
    "# Add a new column of the total number of products per customer per month\n",
    "df[\"tot_products\"] = df.loc[:,\"ind_ahor_fin_ult1\":\"ind_recibo_ult1\"].sum(axis=1)\n",
    "df[\"tot_products\"]   = pd.to_numeric(df[\"tot_products\"], errors=\"coerce\") "
   ]
  },
  {
   "cell_type": "code",
   "execution_count": 22,
   "metadata": {},
   "outputs": [
    {
     "data": {
      "text/html": [
       "<div>\n",
       "<style scoped>\n",
       "    .dataframe tbody tr th:only-of-type {\n",
       "        vertical-align: middle;\n",
       "    }\n",
       "\n",
       "    .dataframe tbody tr th {\n",
       "        vertical-align: top;\n",
       "    }\n",
       "\n",
       "    .dataframe thead th {\n",
       "        text-align: right;\n",
       "    }\n",
       "</style>\n",
       "<table border=\"1\" class=\"dataframe\">\n",
       "  <thead>\n",
       "    <tr style=\"text-align: right;\">\n",
       "      <th></th>\n",
       "      <th>index</th>\n",
       "      <th>fecha_dato</th>\n",
       "      <th>ncodpers</th>\n",
       "      <th>ind_empleado</th>\n",
       "      <th>pais_residencia</th>\n",
       "      <th>sexo</th>\n",
       "      <th>age</th>\n",
       "      <th>fecha_alta</th>\n",
       "      <th>ind_nuevo</th>\n",
       "      <th>antiguedad</th>\n",
       "      <th>...</th>\n",
       "      <th>ind_pres_fin_ult1</th>\n",
       "      <th>ind_reca_fin_ult1</th>\n",
       "      <th>ind_tjcr_fin_ult1</th>\n",
       "      <th>ind_valo_fin_ult1</th>\n",
       "      <th>ind_viv_fin_ult1</th>\n",
       "      <th>ind_nomina_ult1</th>\n",
       "      <th>ind_nom_pens_ult1</th>\n",
       "      <th>ind_recibo_ult1</th>\n",
       "      <th>month</th>\n",
       "      <th>tot_products</th>\n",
       "    </tr>\n",
       "  </thead>\n",
       "  <tbody>\n",
       "    <tr>\n",
       "      <th>32254</th>\n",
       "      <td>686</td>\n",
       "      <td>1/28/2015</td>\n",
       "      <td>1258037</td>\n",
       "      <td>N</td>\n",
       "      <td>ES</td>\n",
       "      <td>H</td>\n",
       "      <td>67.0</td>\n",
       "      <td>5/14/2014</td>\n",
       "      <td>0</td>\n",
       "      <td>14.0</td>\n",
       "      <td>...</td>\n",
       "      <td>0</td>\n",
       "      <td>0</td>\n",
       "      <td>0</td>\n",
       "      <td>0</td>\n",
       "      <td>0</td>\n",
       "      <td>0.0</td>\n",
       "      <td>0.0</td>\n",
       "      <td>1</td>\n",
       "      <td>1</td>\n",
       "      <td>2.0</td>\n",
       "    </tr>\n",
       "    <tr>\n",
       "      <th>47435</th>\n",
       "      <td>1866</td>\n",
       "      <td>1/28/2015</td>\n",
       "      <td>814768</td>\n",
       "      <td>N</td>\n",
       "      <td>ES</td>\n",
       "      <td>V</td>\n",
       "      <td>68.0</td>\n",
       "      <td>11/7/2008</td>\n",
       "      <td>0</td>\n",
       "      <td>80.0</td>\n",
       "      <td>...</td>\n",
       "      <td>0</td>\n",
       "      <td>0</td>\n",
       "      <td>0</td>\n",
       "      <td>0</td>\n",
       "      <td>0</td>\n",
       "      <td>0.0</td>\n",
       "      <td>0.0</td>\n",
       "      <td>0</td>\n",
       "      <td>1</td>\n",
       "      <td>2.0</td>\n",
       "    </tr>\n",
       "    <tr>\n",
       "      <th>14992</th>\n",
       "      <td>2112</td>\n",
       "      <td>1/28/2015</td>\n",
       "      <td>576712</td>\n",
       "      <td>N</td>\n",
       "      <td>ES</td>\n",
       "      <td>V</td>\n",
       "      <td>40.0</td>\n",
       "      <td>10/31/2005</td>\n",
       "      <td>0</td>\n",
       "      <td>117.0</td>\n",
       "      <td>...</td>\n",
       "      <td>0</td>\n",
       "      <td>0</td>\n",
       "      <td>0</td>\n",
       "      <td>1</td>\n",
       "      <td>0</td>\n",
       "      <td>0.0</td>\n",
       "      <td>0.0</td>\n",
       "      <td>0</td>\n",
       "      <td>1</td>\n",
       "      <td>4.0</td>\n",
       "    </tr>\n",
       "    <tr>\n",
       "      <th>47432</th>\n",
       "      <td>179</td>\n",
       "      <td>1/28/2015</td>\n",
       "      <td>1099132</td>\n",
       "      <td>N</td>\n",
       "      <td>ES</td>\n",
       "      <td>H</td>\n",
       "      <td>24.0</td>\n",
       "      <td>11/12/2012</td>\n",
       "      <td>0</td>\n",
       "      <td>32.0</td>\n",
       "      <td>...</td>\n",
       "      <td>0</td>\n",
       "      <td>0</td>\n",
       "      <td>0</td>\n",
       "      <td>0</td>\n",
       "      <td>0</td>\n",
       "      <td>0.0</td>\n",
       "      <td>0.0</td>\n",
       "      <td>0</td>\n",
       "      <td>1</td>\n",
       "      <td>1.0</td>\n",
       "    </tr>\n",
       "    <tr>\n",
       "      <th>32825</th>\n",
       "      <td>1412</td>\n",
       "      <td>1/28/2015</td>\n",
       "      <td>327741</td>\n",
       "      <td>N</td>\n",
       "      <td>ES</td>\n",
       "      <td>V</td>\n",
       "      <td>54.0</td>\n",
       "      <td>2/6/2002</td>\n",
       "      <td>0</td>\n",
       "      <td>161.0</td>\n",
       "      <td>...</td>\n",
       "      <td>0</td>\n",
       "      <td>0</td>\n",
       "      <td>0</td>\n",
       "      <td>0</td>\n",
       "      <td>0</td>\n",
       "      <td>0.0</td>\n",
       "      <td>0.0</td>\n",
       "      <td>0</td>\n",
       "      <td>1</td>\n",
       "      <td>1.0</td>\n",
       "    </tr>\n",
       "  </tbody>\n",
       "</table>\n",
       "<p>5 rows × 49 columns</p>\n",
       "</div>"
      ],
      "text/plain": [
       "       index fecha_dato  ncodpers ind_empleado pais_residencia sexo   age  \\\n",
       "32254    686  1/28/2015   1258037            N              ES    H  67.0   \n",
       "47435   1866  1/28/2015    814768            N              ES    V  68.0   \n",
       "14992   2112  1/28/2015    576712            N              ES    V  40.0   \n",
       "47432    179  1/28/2015   1099132            N              ES    H  24.0   \n",
       "32825   1412  1/28/2015    327741            N              ES    V  54.0   \n",
       "\n",
       "       fecha_alta ind_nuevo  antiguedad  ...  ind_pres_fin_ult1  \\\n",
       "32254   5/14/2014         0        14.0  ...                  0   \n",
       "47435   11/7/2008         0        80.0  ...                  0   \n",
       "14992  10/31/2005         0       117.0  ...                  0   \n",
       "47432  11/12/2012         0        32.0  ...                  0   \n",
       "32825    2/6/2002         0       161.0  ...                  0   \n",
       "\n",
       "       ind_reca_fin_ult1 ind_tjcr_fin_ult1 ind_valo_fin_ult1 ind_viv_fin_ult1  \\\n",
       "32254                  0                 0                 0                0   \n",
       "47435                  0                 0                 0                0   \n",
       "14992                  0                 0                 1                0   \n",
       "47432                  0                 0                 0                0   \n",
       "32825                  0                 0                 0                0   \n",
       "\n",
       "      ind_nomina_ult1 ind_nom_pens_ult1  ind_recibo_ult1  month tot_products  \n",
       "32254             0.0               0.0                1      1          2.0  \n",
       "47435             0.0               0.0                0      1          2.0  \n",
       "14992             0.0               0.0                0      1          4.0  \n",
       "47432             0.0               0.0                0      1          1.0  \n",
       "32825             0.0               0.0                0      1          1.0  \n",
       "\n",
       "[5 rows x 49 columns]"
      ]
     },
     "execution_count": 22,
     "metadata": {},
     "output_type": "execute_result"
    }
   ],
   "source": [
    "df.head()"
   ]
  },
  {
   "cell_type": "markdown",
   "metadata": {},
   "source": [
    "# DATA VISUALIZATION "
   ]
  },
  {
   "cell_type": "code",
   "execution_count": 23,
   "metadata": {},
   "outputs": [
    {
     "data": {
      "text/plain": [
       "Text(0, 0.5, 'Number of customers')"
      ]
     },
     "execution_count": 23,
     "metadata": {},
     "output_type": "execute_result"
    },
    {
     "data": {
      "image/png": "[encoded data removed]",
      "text/plain": [
       "<Figure size 432x288 with 1 Axes>"
      ]
     },
     "metadata": {
      "needs_background": "light"
     },
     "output_type": "display_data"
    }
   ],
   "source": [
    "# Plot of number of customers versus age\n",
    "df['age'].hist(bins=50)\n",
    "plt.title(\"Customers' Age Distribution\")\n",
    "plt.xlabel(\"Age(years)\")\n",
    "plt.ylabel(\"Number of customers\") "
   ]
  },
  {
   "cell_type": "code",
   "execution_count": 24,
   "metadata": {},
   "outputs": [],
   "source": [
    "# plotting average number pf customers between a slot of 10 years "
   ]
  },
  {
   "cell_type": "code",
   "execution_count": 25,
   "metadata": {},
   "outputs": [],
   "source": [
    "df.loc[df.age < 18,\"age\"]  = df.loc[(df.age >= 18) & (df.age <= 30),\"age\"].mean(skipna=True)\n",
    "df.loc[df.age > 90,\"age\"] = df.loc[(df.age >= 30) & (df.age <= 90),\"age\"].mean(skipna=True)\n",
    "df[\"age\"].fillna(df[\"age\"].mean(),inplace=True)\n",
    "df[\"age\"] = df[\"age\"].astype(int)"
   ]
  },
  {
   "cell_type": "code",
   "execution_count": 26,
   "metadata": {},
   "outputs": [
    {
     "data": {
      "image/png": "[encoded data removed]",
      "text/plain": [
       "<Figure size 432x288 with 1 Axes>"
      ]
     },
     "metadata": {},
     "output_type": "display_data"
    }
   ],
   "source": [
    "with sns.plotting_context(\"notebook\",font_scale=2.0):\n",
    "    sns.set_style(\"darkgrid\")\n",
    "    sns.distplot(df[\"age\"].dropna(),\n",
    "                 bins=80,\n",
    "                 kde=False,\n",
    "                 color=\"green\",)\n",
    "    plt.ylabel(\"Count\")\n",
    "    plt.xlim((15,100))\n"
   ]
  },
  {
   "cell_type": "markdown",
   "metadata": {},
   "source": [
    "# Customers attraction by channel\n",
    "The channels through which the customers were attracted to join."
   ]
  },
  {
   "cell_type": "code",
   "execution_count": 27,
   "metadata": {},
   "outputs": [
    {
     "data": {
      "text/plain": [
       "<matplotlib.axes._subplots.AxesSubplot at 0x1cd17793a20>"
      ]
     },
     "execution_count": 27,
     "metadata": {},
     "output_type": "execute_result"
    },
    {
     "data": {
      "image/png": "[encoded data removed]",
      "text/plain": [
       "<Figure size 432x288 with 1 Axes>"
      ]
     },
     "metadata": {},
     "output_type": "display_data"
    }
   ],
   "source": [
    "df[\"canal_entrada\"].value_counts().plot(x=None, y=None, kind='pie') \n",
    "# The maximum of contribution is from channel KHE,KAT,KFC,KHQ,KFA"
   ]
  },
  {
   "cell_type": "code",
   "execution_count": 28,
   "metadata": {},
   "outputs": [
    {
     "data": {
      "text/plain": [
       "KHE    14760\n",
       "KAT    11854\n",
       "KFC    11301\n",
       "KHQ     2213\n",
       "KFA     1476\n",
       "KHK      863\n",
       "KHM      726\n",
       "Name: canal_entrada, dtype: int64"
      ]
     },
     "execution_count": 28,
     "metadata": {},
     "output_type": "execute_result"
    }
   ],
   "source": [
    "df['canal_entrada'].value_counts().head(7)"
   ]
  },
  {
   "cell_type": "code",
   "execution_count": 29,
   "metadata": {},
   "outputs": [],
   "source": [
    "df_a = df.loc[:, ['sexo', 'ind_actividad_cliente']].join(df.loc[:, \"ind_ahor_fin_ult1\": \"ind_recibo_ult1\"])\n",
    "df_a = df_a.groupby(['sexo', 'ind_actividad_cliente']).sum()\n",
    "df_a = df_a.T"
   ]
  },
  {
   "cell_type": "code",
   "execution_count": 30,
   "metadata": {},
   "outputs": [
    {
     "data": {
      "text/html": [
       "<div>\n",
       "<style scoped>\n",
       "    .dataframe tbody tr th:only-of-type {\n",
       "        vertical-align: middle;\n",
       "    }\n",
       "\n",
       "    .dataframe tbody tr th {\n",
       "        vertical-align: top;\n",
       "    }\n",
       "\n",
       "    .dataframe thead tr th {\n",
       "        text-align: left;\n",
       "    }\n",
       "</style>\n",
       "<table border=\"1\" class=\"dataframe\">\n",
       "  <thead>\n",
       "    <tr>\n",
       "      <th>sexo</th>\n",
       "      <th colspan=\"2\" halign=\"left\">H</th>\n",
       "      <th colspan=\"2\" halign=\"left\">V</th>\n",
       "    </tr>\n",
       "    <tr>\n",
       "      <th>ind_actividad_cliente</th>\n",
       "      <th>0.0</th>\n",
       "      <th>1.0</th>\n",
       "      <th>0.0</th>\n",
       "      <th>1.0</th>\n",
       "    </tr>\n",
       "  </thead>\n",
       "  <tbody>\n",
       "    <tr>\n",
       "      <th>ind_ahor_fin_ult1</th>\n",
       "      <td>1.0</td>\n",
       "      <td>0.0</td>\n",
       "      <td>2.0</td>\n",
       "      <td>1.0</td>\n",
       "    </tr>\n",
       "    <tr>\n",
       "      <th>ind_aval_fin_ult1</th>\n",
       "      <td>0.0</td>\n",
       "      <td>0.0</td>\n",
       "      <td>0.0</td>\n",
       "      <td>0.0</td>\n",
       "    </tr>\n",
       "    <tr>\n",
       "      <th>ind_cco_fin_ult1</th>\n",
       "      <td>7998.0</td>\n",
       "      <td>7286.0</td>\n",
       "      <td>7456.0</td>\n",
       "      <td>9486.0</td>\n",
       "    </tr>\n",
       "    <tr>\n",
       "      <th>ind_cder_fin_ult1</th>\n",
       "      <td>2.0</td>\n",
       "      <td>3.0</td>\n",
       "      <td>1.0</td>\n",
       "      <td>17.0</td>\n",
       "    </tr>\n",
       "    <tr>\n",
       "      <th>ind_cno_fin_ult1</th>\n",
       "      <td>26.0</td>\n",
       "      <td>1610.0</td>\n",
       "      <td>29.0</td>\n",
       "      <td>2348.0</td>\n",
       "    </tr>\n",
       "    <tr>\n",
       "      <th>ind_ctju_fin_ult1</th>\n",
       "      <td>40.0</td>\n",
       "      <td>190.0</td>\n",
       "      <td>59.0</td>\n",
       "      <td>195.0</td>\n",
       "    </tr>\n",
       "    <tr>\n",
       "      <th>ind_ctma_fin_ult1</th>\n",
       "      <td>34.0</td>\n",
       "      <td>167.0</td>\n",
       "      <td>65.0</td>\n",
       "      <td>198.0</td>\n",
       "    </tr>\n",
       "    <tr>\n",
       "      <th>ind_ctop_fin_ult1</th>\n",
       "      <td>830.0</td>\n",
       "      <td>1713.0</td>\n",
       "      <td>1312.0</td>\n",
       "      <td>2629.0</td>\n",
       "    </tr>\n",
       "    <tr>\n",
       "      <th>ind_ctpp_fin_ult1</th>\n",
       "      <td>145.0</td>\n",
       "      <td>719.0</td>\n",
       "      <td>220.0</td>\n",
       "      <td>1098.0</td>\n",
       "    </tr>\n",
       "    <tr>\n",
       "      <th>ind_deco_fin_ult1</th>\n",
       "      <td>6.0</td>\n",
       "      <td>36.0</td>\n",
       "      <td>9.0</td>\n",
       "      <td>39.0</td>\n",
       "    </tr>\n",
       "  </tbody>\n",
       "</table>\n",
       "</div>"
      ],
      "text/plain": [
       "sexo                        H               V        \n",
       "ind_actividad_cliente     0.0     1.0     0.0     1.0\n",
       "ind_ahor_fin_ult1         1.0     0.0     2.0     1.0\n",
       "ind_aval_fin_ult1         0.0     0.0     0.0     0.0\n",
       "ind_cco_fin_ult1       7998.0  7286.0  7456.0  9486.0\n",
       "ind_cder_fin_ult1         2.0     3.0     1.0    17.0\n",
       "ind_cno_fin_ult1         26.0  1610.0    29.0  2348.0\n",
       "ind_ctju_fin_ult1        40.0   190.0    59.0   195.0\n",
       "ind_ctma_fin_ult1        34.0   167.0    65.0   198.0\n",
       "ind_ctop_fin_ult1       830.0  1713.0  1312.0  2629.0\n",
       "ind_ctpp_fin_ult1       145.0   719.0   220.0  1098.0\n",
       "ind_deco_fin_ult1         6.0    36.0     9.0    39.0"
      ]
     },
     "execution_count": 30,
     "metadata": {},
     "output_type": "execute_result"
    }
   ],
   "source": [
    "df_a.head(10)"
   ]
  },
  {
   "cell_type": "code",
   "execution_count": 31,
   "metadata": {},
   "outputs": [
    {
     "data": {
      "text/plain": [
       "<matplotlib.legend.Legend at 0x1cd184d2358>"
      ]
     },
     "execution_count": 31,
     "metadata": {},
     "output_type": "execute_result"
    },
    {
     "data": {
      "image/png": "[encoded data removed]",
      "text/plain": [
       "<Figure size 1152x864 with 1 Axes>"
      ]
     },
     "metadata": {},
     "output_type": "display_data"
    }
   ],
   "source": [
    "df_a.plot(kind='barh', stacked=True, fontsize=14, figsize=[16,12], colormap='gist_ncar')\n",
    "plt.title('Popularity of products by sex and activity index', fontsize=20) \n",
    "plt.xlabel('Number of customers', fontsize=17) \n",
    "plt.ylabel('Products_names', fontsize=17) \n",
    "plt.legend([\"Sex:H; Activity_Ind:0\", \"Sex:H; Activity_Ind:1\", \"Sex:V; Activity_Ind:0\", \n",
    "            \"Sex:V; Activity_Ind:1\"], prop={'size':15}) "
   ]
  },
  {
   "cell_type": "markdown",
   "metadata": {},
   "source": [
    "we can see maximum customers belonged to current accounts"
   ]
  },
  {
   "cell_type": "code",
   "execution_count": 32,
   "metadata": {},
   "outputs": [
    {
     "data": {
      "text/plain": [
       "renta\n",
       "[0.0, 60000.0)           9087.0\n",
       "[60000.0, 120000.0)     35466.0\n",
       "[120000.0, 180000.0)    14583.0\n",
       "[180000.0, 240000.0)     6407.0\n",
       "[240000.0, inf)          6508.0\n",
       "Name: tot_products, dtype: float64"
      ]
     },
     "execution_count": 32,
     "metadata": {},
     "output_type": "execute_result"
    }
   ],
   "source": [
    "df_a = (df.groupby(pd.cut(df['renta'], [0,60000,120000,180000,240000, pd.np.inf], right=False))\n",
    "                     .sum())\n",
    "df_a['tot_products'].head()"
   ]
  },
  {
   "cell_type": "code",
   "execution_count": 33,
   "metadata": {},
   "outputs": [],
   "source": [
    "# Let's drop the columns which are unnecessary for this step\n",
    "df_a = df_a.loc[:, \"ind_ahor_fin_ult1\": \"ind_recibo_ult1\"]\n",
    "df_a = df_a.T"
   ]
  },
  {
   "cell_type": "code",
   "execution_count": 34,
   "metadata": {},
   "outputs": [
    {
     "data": {
      "text/plain": [
       "renta              [0.0, 60000.0)  [60000.0, 120000.0)  [120000.0, 180000.0)  \\\n",
       "ind_ahor_fin_ult1             0.0                  3.0                   0.0   \n",
       "ind_aval_fin_ult1             0.0                  0.0                   0.0   \n",
       "ind_cco_fin_ult1           4873.0              17074.0                5768.0   \n",
       "ind_cder_fin_ult1             1.0                 12.0                   4.0   \n",
       "ind_cno_fin_ult1            488.0               1902.0                 885.0   \n",
       "ind_ctju_fin_ult1            45.0                198.0                 120.0   \n",
       "ind_ctma_fin_ult1            49.0                252.0                  82.0   \n",
       "ind_ctop_fin_ult1           630.0               2996.0                1400.0   \n",
       "\n",
       "renta              [180000.0, 240000.0)  [240000.0, inf)  \n",
       "ind_ahor_fin_ult1                   1.0              0.0  \n",
       "ind_aval_fin_ult1                   0.0              0.0  \n",
       "ind_cco_fin_ult1                 2215.0           2296.0  \n",
       "ind_cder_fin_ult1                   3.0              3.0  \n",
       "ind_cno_fin_ult1                  399.0            339.0  \n",
       "ind_ctju_fin_ult1                  63.0             58.0  \n",
       "ind_ctma_fin_ult1                  48.0             33.0  \n",
       "ind_ctop_fin_ult1                 730.0            728.0  "
      ]
     },
     "execution_count": 34,
     "metadata": {},
     "output_type": "execute_result"
    }
   ],
   "source": [
    "df_a.head(8)"
   ]
  },
  {
   "cell_type": "code",
   "execution_count": 35,
   "metadata": {},
   "outputs": [
    {
     "data": {
      "text/plain": [
       "KHE    14760\n",
       "KAT    11854\n",
       "KFC    11301\n",
       "KHQ     2213\n",
       "KFA     1476\n",
       "KHK      863\n",
       "KHM      726\n",
       "KHD      430\n",
       "KHN      423\n",
       "RED      302\n",
       "Name: canal_entrada, dtype: int64"
      ]
     },
     "execution_count": 35,
     "metadata": {},
     "output_type": "execute_result"
    }
   ],
   "source": [
    "df[\"canal_entrada\"].value_counts().head(10)"
   ]
  },
  {
   "cell_type": "markdown",
   "metadata": {},
   "source": [
    "Most of the customers joined through three major channels\n",
    "Since 6 out of 160 channels account for about 87.11% of the total number of customers attraction and to be able to visualze, we are going to exclude any channel has a contribution less than 1%."
   ]
  },
  {
   "cell_type": "code",
   "execution_count": 36,
   "metadata": {},
   "outputs": [],
   "source": [
    "# Let's extract the necessary columns for this step\n",
    "df_a = df.loc[:, ['canal_entrada']].join(df.loc[:, 'ind_ahor_fin_ult1':'ind_recibo_ult1'])"
   ]
  },
  {
   "cell_type": "code",
   "execution_count": 37,
   "metadata": {},
   "outputs": [],
   "source": [
    "# Let's subset the data to keep only the records from the five major channels\n",
    "subset = [\"KHE\", \"KAT\", \"KFC\", \"KFA\", \"KHK\"]\n",
    "df_a = df_a.loc[df_a['canal_entrada'].isin(subset)]"
   ]
  },
  {
   "cell_type": "code",
   "execution_count": 38,
   "metadata": {},
   "outputs": [],
   "source": [
    "df_a = df_a.groupby(\"canal_entrada\").agg(\"sum\")\n",
    "df_a = df_a.T"
   ]
  },
  {
   "cell_type": "code",
   "execution_count": 39,
   "metadata": {},
   "outputs": [
    {
     "data": {
      "text/html": [
       "<div>\n",
       "<style scoped>\n",
       "    .dataframe tbody tr th:only-of-type {\n",
       "        vertical-align: middle;\n",
       "    }\n",
       "\n",
       "    .dataframe tbody tr th {\n",
       "        vertical-align: top;\n",
       "    }\n",
       "\n",
       "    .dataframe thead th {\n",
       "        text-align: right;\n",
       "    }\n",
       "</style>\n",
       "<table border=\"1\" class=\"dataframe\">\n",
       "  <thead>\n",
       "    <tr style=\"text-align: right;\">\n",
       "      <th>canal_entrada</th>\n",
       "      <th>KAT</th>\n",
       "      <th>KFA</th>\n",
       "      <th>KFC</th>\n",
       "      <th>KHE</th>\n",
       "      <th>KHK</th>\n",
       "    </tr>\n",
       "  </thead>\n",
       "  <tbody>\n",
       "    <tr>\n",
       "      <th>ind_ahor_fin_ult1</th>\n",
       "      <td>2.0</td>\n",
       "      <td>1.0</td>\n",
       "      <td>1.0</td>\n",
       "      <td>0.0</td>\n",
       "      <td>0.0</td>\n",
       "    </tr>\n",
       "    <tr>\n",
       "      <th>ind_aval_fin_ult1</th>\n",
       "      <td>0.0</td>\n",
       "      <td>0.0</td>\n",
       "      <td>0.0</td>\n",
       "      <td>0.0</td>\n",
       "      <td>0.0</td>\n",
       "    </tr>\n",
       "    <tr>\n",
       "      <th>ind_cco_fin_ult1</th>\n",
       "      <td>6711.0</td>\n",
       "      <td>785.0</td>\n",
       "      <td>6168.0</td>\n",
       "      <td>12669.0</td>\n",
       "      <td>492.0</td>\n",
       "    </tr>\n",
       "    <tr>\n",
       "      <th>ind_cder_fin_ult1</th>\n",
       "      <td>15.0</td>\n",
       "      <td>1.0</td>\n",
       "      <td>5.0</td>\n",
       "      <td>0.0</td>\n",
       "      <td>0.0</td>\n",
       "    </tr>\n",
       "    <tr>\n",
       "      <th>ind_cno_fin_ult1</th>\n",
       "      <td>1590.0</td>\n",
       "      <td>180.0</td>\n",
       "      <td>1261.0</td>\n",
       "      <td>299.0</td>\n",
       "      <td>89.0</td>\n",
       "    </tr>\n",
       "  </tbody>\n",
       "</table>\n",
       "</div>"
      ],
      "text/plain": [
       "canal_entrada         KAT    KFA     KFC      KHE    KHK\n",
       "ind_ahor_fin_ult1     2.0    1.0     1.0      0.0    0.0\n",
       "ind_aval_fin_ult1     0.0    0.0     0.0      0.0    0.0\n",
       "ind_cco_fin_ult1   6711.0  785.0  6168.0  12669.0  492.0\n",
       "ind_cder_fin_ult1    15.0    1.0     5.0      0.0    0.0\n",
       "ind_cno_fin_ult1   1590.0  180.0  1261.0    299.0   89.0"
      ]
     },
     "execution_count": 39,
     "metadata": {},
     "output_type": "execute_result"
    }
   ],
   "source": [
    "df_a.head()"
   ]
  },
  {
   "cell_type": "code",
   "execution_count": 40,
   "metadata": {},
   "outputs": [
    {
     "data": {
      "text/plain": [
       "<matplotlib.legend.Legend at 0x1cd18649828>"
      ]
     },
     "execution_count": 40,
     "metadata": {},
     "output_type": "execute_result"
    },
    {
     "data": {
      "image/png": "[encoded data removed]",
      "text/plain": [
       "<Figure size 1152x864 with 1 Axes>"
      ]
     },
     "metadata": {},
     "output_type": "display_data"
    }
   ],
   "source": [
    "# Channels used by the customer to join and the purchased products\n",
    "df_a.plot(kind='barh', stacked=True, fontsize=14, figsize=[16,12], colormap='gist_rainbow')\n",
    "plt.title('Channels used by the customers to join and associated product uses', fontsize=20, color='black') \n",
    "plt.xlabel('Total number of customers', fontsize=17, color='black') \n",
    "plt.ylabel('Products names', fontsize=17, color='black') \n",
    "plt.legend(prop={'size':15}) "
   ]
  },
  {
   "cell_type": "code",
   "execution_count": 41,
   "metadata": {},
   "outputs": [
    {
     "data": {
      "text/html": [
       "<div>\n",
       "<style scoped>\n",
       "    .dataframe tbody tr th:only-of-type {\n",
       "        vertical-align: middle;\n",
       "    }\n",
       "\n",
       "    .dataframe tbody tr th {\n",
       "        vertical-align: top;\n",
       "    }\n",
       "\n",
       "    .dataframe thead tr th {\n",
       "        text-align: left;\n",
       "    }\n",
       "</style>\n",
       "<table border=\"1\" class=\"dataframe\">\n",
       "  <thead>\n",
       "    <tr>\n",
       "      <th></th>\n",
       "      <th>nomprov</th>\n",
       "      <th>renta</th>\n",
       "    </tr>\n",
       "    <tr>\n",
       "      <th></th>\n",
       "      <th></th>\n",
       "      <th>MedianIncome</th>\n",
       "    </tr>\n",
       "  </thead>\n",
       "  <tbody>\n",
       "    <tr>\n",
       "      <th>0</th>\n",
       "      <td>BIZKAIA</td>\n",
       "      <td>67183.980</td>\n",
       "    </tr>\n",
       "    <tr>\n",
       "      <th>1</th>\n",
       "      <td>AVILA</td>\n",
       "      <td>68041.725</td>\n",
       "    </tr>\n",
       "    <tr>\n",
       "      <th>2</th>\n",
       "      <td>BADAJOZ</td>\n",
       "      <td>68854.740</td>\n",
       "    </tr>\n",
       "    <tr>\n",
       "      <th>3</th>\n",
       "      <td>CIUDAD REAL</td>\n",
       "      <td>69181.200</td>\n",
       "    </tr>\n",
       "    <tr>\n",
       "      <th>4</th>\n",
       "      <td>BALEARS, ILLES</td>\n",
       "      <td>71063.415</td>\n",
       "    </tr>\n",
       "  </tbody>\n",
       "</table>\n",
       "</div>"
      ],
      "text/plain": [
       "          nomprov        renta\n",
       "                  MedianIncome\n",
       "0         BIZKAIA    67183.980\n",
       "1           AVILA    68041.725\n",
       "2         BADAJOZ    68854.740\n",
       "3     CIUDAD REAL    69181.200\n",
       "4  BALEARS, ILLES    71063.415"
      ]
     },
     "execution_count": 41,
     "metadata": {},
     "output_type": "execute_result"
    }
   ],
   "source": [
    "incomes = df.loc[df.renta.notnull(),:].groupby(\"nomprov\").agg({\"renta\":{\"MedianIncome\":median}})\n",
    "incomes.sort_values(by=(\"renta\",\"MedianIncome\"),inplace=True)\n",
    "incomes.reset_index(inplace=True)\n",
    "incomes.nomprov = incomes.nomprov.astype(\"category\", categories=[i for i in df.nomprov.unique()],ordered=False)\n",
    "incomes.head()"
   ]
  },
  {
   "cell_type": "code",
   "execution_count": 42,
   "metadata": {},
   "outputs": [
    {
     "data": {
      "text/plain": [
       "([<matplotlib.axis.YTick at 0x1cd193b12e8>,\n",
       "  <matplotlib.axis.YTick at 0x1cd193abb38>,\n",
       "  <matplotlib.axis.YTick at 0x1cd19380400>,\n",
       "  <matplotlib.axis.YTick at 0x1cd193db940>,\n",
       "  <matplotlib.axis.YTick at 0x1cd193dbeb8>],\n",
       " <a list of 5 Text yticklabel objects>)"
      ]
     },
     "execution_count": 42,
     "metadata": {},
     "output_type": "execute_result"
    },
    {
     "data": {
      "image/png": "[encoded data removed]",
      "text/plain": [
       "<Figure size 648x432 with 1 Axes>"
      ]
     },
     "metadata": {},
     "output_type": "display_data"
    }
   ],
   "source": [
    "with sns.axes_style({\n",
    "        \"axes.facecolor\":   \"blue\",\n",
    "        \"axes.grid\"     :    False,\n",
    "        \"figure.facecolor\": \"white\"}):\n",
    "    h = sns.factorplot(data=incomes,\n",
    "                   x=\"nomprov\",\n",
    "                   y=(\"renta\",\"MedianIncome\"),\n",
    "                   order=(i for i in incomes.nomprov),\n",
    "                   size=6,\n",
    "                   aspect=1.5,\n",
    "                   scale=1.0,\n",
    "                   color=\"#ffc400\",\n",
    "                   linestyles=\"None\")\n",
    "plt.xticks(rotation=90)\n",
    "plt.tick_params(labelsize=10,labelcolor=\"black\")#\n",
    "plt.ylabel(\"Median Income\",size=18,color=\"black\")\n",
    "plt.xlabel(\"City\",size=18,color=\"black\")\n",
    "plt.title(\"Income Distribution by City\",size=20,color=\"black\")\n",
    "plt.ylim(0,180000)\n",
    "plt.yticks(range(0,180000,40000))"
   ]
  },
  {
   "cell_type": "code",
   "execution_count": 43,
   "metadata": {},
   "outputs": [],
   "source": [
    "df.loc[df.ind_nomina_ult1.isnull(), \"ind_nomina_ult1\"] = 0\n",
    "df.loc[df.ind_nom_pens_ult1.isnull(), \"ind_nom_pens_ult1\"] = 0"
   ]
  },
  {
   "cell_type": "markdown",
   "metadata": {},
   "source": [
    "Last columns with missing values: 'ind_empleado', 'pais_residencia', 'sexo', 'ult_fec_cli_1t', 'tiprel_1mes', 'indresi', 'indext', 'conyuemp', 'canal_entrada', 'indfall', 'segmento'"
   ]
  },
  {
   "cell_type": "code",
   "execution_count": 44,
   "metadata": {},
   "outputs": [],
   "source": [
    "string_data = df.select_dtypes(include=[\"object\"])\n",
    "missing_columns = [col for col in string_data if string_data[col].isnull().any()]\n",
    "for col in missing_columns:\n",
    "    print(\"Unique values for {0}:\\n{1}\\n\".format(col,string_data[col].unique()))\n",
    "del string_data"
   ]
  },
  {
   "cell_type": "code",
   "execution_count": 45,
   "metadata": {},
   "outputs": [
    {
     "data": {
      "text/plain": [
       "index                    False\n",
       "fecha_dato               False\n",
       "ncodpers                 False\n",
       "ind_empleado             False\n",
       "pais_residencia          False\n",
       "sexo                     False\n",
       "age                      False\n",
       "fecha_alta               False\n",
       "ind_nuevo                False\n",
       "antiguedad               False\n",
       "indrel                   False\n",
       "indrel_1mes              False\n",
       "tiprel_1mes              False\n",
       "indresi                  False\n",
       "indext                   False\n",
       "canal_entrada            False\n",
       "indfall                  False\n",
       "tipodom                  False\n",
       "cod_prov                 False\n",
       "nomprov                  False\n",
       "ind_actividad_cliente    False\n",
       "renta                    False\n",
       "segmento                 False\n",
       "ind_ahor_fin_ult1        False\n",
       "ind_aval_fin_ult1        False\n",
       "ind_cco_fin_ult1         False\n",
       "ind_cder_fin_ult1        False\n",
       "ind_cno_fin_ult1         False\n",
       "ind_ctju_fin_ult1        False\n",
       "ind_ctma_fin_ult1        False\n",
       "ind_ctop_fin_ult1        False\n",
       "ind_ctpp_fin_ult1        False\n",
       "ind_deco_fin_ult1        False\n",
       "ind_deme_fin_ult1        False\n",
       "ind_dela_fin_ult1        False\n",
       "ind_ecue_fin_ult1        False\n",
       "ind_fond_fin_ult1        False\n",
       "ind_hip_fin_ult1         False\n",
       "ind_plan_fin_ult1        False\n",
       "ind_pres_fin_ult1        False\n",
       "ind_reca_fin_ult1        False\n",
       "ind_tjcr_fin_ult1        False\n",
       "ind_valo_fin_ult1        False\n",
       "ind_viv_fin_ult1         False\n",
       "ind_nomina_ult1          False\n",
       "ind_nom_pens_ult1        False\n",
       "ind_recibo_ult1          False\n",
       "month                    False\n",
       "tot_products             False\n",
       "dtype: bool"
      ]
     },
     "execution_count": 45,
     "metadata": {},
     "output_type": "execute_result"
    }
   ],
   "source": [
    "df.isnull().any()"
   ]
  },
  {
   "cell_type": "code",
   "execution_count": 46,
   "metadata": {},
   "outputs": [],
   "source": [
    "#Convert the products feature columns into integer values\n",
    "feature_cols = df.iloc[:1,].filter(regex=\"ind_+.*ult.*\").columns.values\n",
    "for col in feature_cols:\n",
    "    df[col] = df[col].astype(int)"
   ]
  },
  {
   "cell_type": "code",
   "execution_count": 47,
   "metadata": {},
   "outputs": [
    {
     "data": {
      "text/plain": [
       "index                      int64\n",
       "fecha_dato                object\n",
       "ncodpers                   int64\n",
       "ind_empleado              object\n",
       "pais_residencia           object\n",
       "sexo                      object\n",
       "age                        int32\n",
       "fecha_alta                object\n",
       "ind_nuevo                 object\n",
       "antiguedad               float64\n",
       "indrel                   float64\n",
       "indrel_1mes              float64\n",
       "tiprel_1mes               object\n",
       "indresi                   object\n",
       "indext                    object\n",
       "canal_entrada             object\n",
       "indfall                   object\n",
       "tipodom                  float64\n",
       "cod_prov                 float64\n",
       "nomprov                   object\n",
       "ind_actividad_cliente    float64\n",
       "renta                    float64\n",
       "segmento                  object\n",
       "ind_ahor_fin_ult1          int32\n",
       "ind_aval_fin_ult1          int32\n",
       "ind_cco_fin_ult1           int32\n",
       "ind_cder_fin_ult1          int32\n",
       "ind_cno_fin_ult1           int32\n",
       "ind_ctju_fin_ult1          int32\n",
       "ind_ctma_fin_ult1          int32\n",
       "ind_ctop_fin_ult1          int32\n",
       "ind_ctpp_fin_ult1          int32\n",
       "ind_deco_fin_ult1          int32\n",
       "ind_deme_fin_ult1          int32\n",
       "ind_dela_fin_ult1          int32\n",
       "ind_ecue_fin_ult1          int32\n",
       "ind_fond_fin_ult1          int32\n",
       "ind_hip_fin_ult1           int32\n",
       "ind_plan_fin_ult1          int32\n",
       "ind_pres_fin_ult1          int32\n",
       "ind_reca_fin_ult1          int32\n",
       "ind_tjcr_fin_ult1          int32\n",
       "ind_valo_fin_ult1          int32\n",
       "ind_viv_fin_ult1           int32\n",
       "ind_nomina_ult1            int32\n",
       "ind_nom_pens_ult1          int32\n",
       "ind_recibo_ult1            int32\n",
       "month                      int64\n",
       "tot_products             float64\n",
       "dtype: object"
      ]
     },
     "execution_count": 47,
     "metadata": {},
     "output_type": "execute_result"
    }
   ],
   "source": [
    "df.dtypes"
   ]
  },
  {
   "cell_type": "markdown",
   "metadata": {},
   "source": [
    "# Training the model"
   ]
  },
  {
   "cell_type": "code",
   "execution_count": 48,
   "metadata": {},
   "outputs": [],
   "source": [
    "\n",
    "usecols = ['ncodpers', 'ind_ahor_fin_ult1', 'ind_aval_fin_ult1', 'ind_cco_fin_ult1',\n",
    "       'ind_cder_fin_ult1', 'ind_cno_fin_ult1', 'ind_ctju_fin_ult1',\n",
    "       'ind_ctma_fin_ult1', 'ind_ctop_fin_ult1', 'ind_ctpp_fin_ult1',\n",
    "       'ind_deco_fin_ult1', 'ind_deme_fin_ult1', 'ind_dela_fin_ult1',\n",
    "       'ind_ecue_fin_ult1', 'ind_fond_fin_ult1', 'ind_hip_fin_ult1',\n",
    "       'ind_plan_fin_ult1', 'ind_pres_fin_ult1', 'ind_reca_fin_ult1',\n",
    "       'ind_tjcr_fin_ult1', 'ind_valo_fin_ult1', 'ind_viv_fin_ult1',\n",
    "       'ind_nomina_ult1', 'ind_nom_pens_ult1', 'ind_recibo_ult1']\n",
    "       \n",
    "df_train = pd.read_csv(\"train_ver2.csv\",dtype={\"sexo\":str,\n",
    "                                                    \"ind_nuevo\":str,\n",
    "                                                    \"ult_fec_cli_1t\":str,\n",
    "                                                    \"indext\":str},usecols=usecols)\n",
    "df_test = pd.read_csv(\"train_ver2.csv\",dtype={\"sexo\":str,\n",
    "                                          \"ind_nuevo\":str,\n",
    "                                              \"ult_fec_cli_1t\":str,\n",
    "                                              \"indext\":str},usecols=usecols)\n",
    "\n",
    "sample = pd.read_csv('sample_submission.csv')\n",
    "\n",
    "df_train = df_train.drop_duplicates(['ncodpers'], keep='last')\n",
    "#df_test = df_test.drop_duplicates(['ncodpers'], keep='last')\n",
    "df_train.fillna(0, inplace=True)\n",
    "#df_test.fillna(0, inplace=True)\n",
    "\n",
    "# Not very sure just to keep with unique_ids 'cause principal id is fecha_dato + ncodpers and if we\n",
    "# eliminate repeated ncodpers we lose some important information.\n",
    "#We take unique_ids and unique fecha_datos just to play forward.\n",
    "unique_ids   = pd.Series(df_train[\"ncodpers\"].unique())\n",
    "\n",
    "df_train.count()\n",
    "unique_ids.count()\n",
    "limit_people = 10000\n",
    "unique_id    = unique_ids.sample(n=limit_people)\n",
    "df_train           = df_train[df_train.ncodpers.isin(unique_id)]"
   ]
  },
  {
   "cell_type": "code",
   "execution_count": 49,
   "metadata": {},
   "outputs": [],
   "source": [
    "models = {}\n",
    "id_preds = defaultdict(list)\n",
    "ids = df_train['ncodpers'].values\n",
    "\n",
    "#Delete in final model (Done before)\n",
    "feature_cols = df.iloc[:1,].filter(regex=\"ind_+.*ult.*\").columns.values\n",
    "for col in feature_cols:\n",
    "    df[col] = df[col].astype(int)\n",
    "# -------------------------------------------------------------------------------------------#    \n",
    "for c in df_train.columns:\n",
    "    if c != 'ncodpers':\n",
    "        #print(c)\n",
    "        y_train = df_train[c]\n",
    "        x_train = df_train.drop([c, 'ncodpers'], 1)\n",
    "        \n",
    "        \n",
    "for c in df_test.columns:\n",
    "    if c != 'ncodpers':\n",
    "        #print(c)\n",
    "        x_test = df_test.drop([c, 'ncodpers'], 1) \n",
    "        x_test = x_test.fillna(method='ffill')"
   ]
  },
  {
   "cell_type": "code",
   "execution_count": 50,
   "metadata": {},
   "outputs": [],
   "source": [
    "models = [('lr',LogisticRegression()),('rfr',RandomForestClassifier()),('etr',ExtraTreesClassifier()),\n",
    "         ('br',BaggingClassifier()),('gbr',GradientBoostingClassifier()),('mlp',MLPClassifier()),('xgb',XGBClassifier())]"
   ]
  },
  {
   "cell_type": "code",
   "execution_count": 51,
   "metadata": {},
   "outputs": [],
   "source": [
    "#Making function for making best 2 models for further hyperparameter tuning\n",
    "def basic_model_selection(x,y,model,z):\n",
    "    scores=[]\n",
    "    names = []\n",
    "    for i , j in model:\n",
    "        clf = j\n",
    "        clf.fit(x,y)\n",
    "        p_train = clf.predict_proba(x)[:,1]\n",
    "        for id,p in zip(ids,p_train):\n",
    "            id_preds[id].append(p)\n",
    "        names.append(i)\n",
    "        scores.append(roc_auc_score(y,p_train))\n",
    "    for k in range(len(scores)):\n",
    "        print(names[k],scores[k])"
   ]
  },
  {
   "cell_type": "code",
   "execution_count": 52,
   "metadata": {},
   "outputs": [
    {
     "name": "stdout",
     "output_type": "stream",
     "text": [
      "lr 0.8674254637320039\n",
      "rfr 0.8779019553353926\n",
      "etr 0.880962107254419\n",
      "br 0.8781257246067293\n",
      "gbr 0.871631198802415\n",
      "mlp 0.8749578802323885\n",
      "xgb 0.8711080146942443\n"
     ]
    }
   ],
   "source": [
    "basic_model_selection(x_train,y_train,models,ids)"
   ]
  },
  {
   "cell_type": "code",
   "execution_count": 53,
   "metadata": {},
   "outputs": [],
   "source": [
    "def model_parameter_tuning(x,y,model,parameters,cross_folds,ids):\n",
    "    model_grid = GridSearchCV(model,\n",
    "                        parameters,\n",
    "                        cv = cross_folds,\n",
    "                        n_jobs = -1,\n",
    "                        verbose=True)\n",
    "    model_grid.fit(x,y)\n",
    "    y_predicted = model_grid.predict_proba(x)[:,1]\n",
    "    for id, p in zip(ids,y_predicted):\n",
    "        id_preds[id].append(p)\n",
    "    print(roc_auc_score(y,y_predicted))    \n",
    "    print(model_grid.best_params_)\n",
    "#defining function for hyper parameter tuning and using ROC_AUC score as my metric\n",
    "    "
   ]
  },
  {
   "cell_type": "code",
   "execution_count": 54,
   "metadata": {},
   "outputs": [],
   "source": [
    "parameters_mlp = {'hidden_layer_sizes':[(100,100,100),(50,100,200),(100,200,300)],\n",
    "    'activation': ['tanh', 'relu'],\n",
    "    'solver': ['adam'],\n",
    "    'alpha': [0.0001, 0.05],\n",
    "    'learning_rate': ['constant','adaptive'],\n",
    "                   }\n",
    "parameters_etr = {\n",
    "            'max_leaf_nodes':[14,15,20,25],\n",
    "              'max_depth': [12,10,9,11],\n",
    "              'n_estimators': [35,40,50,60]\n",
    "                  }\n",
    "# Defining the useful parameters for parameter tuning\n",
    "# to get the optimum output"
   ]
  },
  {
   "cell_type": "code",
   "execution_count": 55,
   "metadata": {},
   "outputs": [],
   "source": [
    "mlp = MLPClassifier()\n",
    "etr = ExtraTreesClassifier()"
   ]
  },
  {
   "cell_type": "code",
   "execution_count": 56,
   "metadata": {},
   "outputs": [
    {
     "name": "stdout",
     "output_type": "stream",
     "text": [
      "Fitting 4 folds for each of 64 candidates, totalling 256 fits\n"
     ]
    },
    {
     "name": "stderr",
     "output_type": "stream",
     "text": [
      "[Parallel(n_jobs=-1)]: Using backend LokyBackend with 8 concurrent workers.\n",
      "[Parallel(n_jobs=-1)]: Done  34 tasks      | elapsed:    5.2s\n",
      "[Parallel(n_jobs=-1)]: Done 184 tasks      | elapsed:   10.6s\n",
      "[Parallel(n_jobs=-1)]: Done 256 out of 256 | elapsed:   13.0s finished\n"
     ]
    },
    {
     "name": "stdout",
     "output_type": "stream",
     "text": [
      "0.8654325943513069\n",
      "{'max_depth': 12, 'max_leaf_nodes': 25, 'n_estimators': 60}\n"
     ]
    }
   ],
   "source": [
    "model_parameter_tuning(x_train,y_train,etr,parameters_etr,4,ids)"
   ]
  },
  {
   "cell_type": "code",
   "execution_count": 57,
   "metadata": {},
   "outputs": [
    {
     "name": "stdout",
     "output_type": "stream",
     "text": [
      "Fitting 4 folds for each of 24 candidates, totalling 96 fits\n"
     ]
    },
    {
     "name": "stderr",
     "output_type": "stream",
     "text": [
      "[Parallel(n_jobs=-1)]: Using backend LokyBackend with 8 concurrent workers.\n",
      "[Parallel(n_jobs=-1)]: Done  34 tasks      | elapsed:  6.9min\n",
      "[Parallel(n_jobs=-1)]: Done  96 out of  96 | elapsed: 16.1min finished\n"
     ]
    },
    {
     "name": "stdout",
     "output_type": "stream",
     "text": [
      "0.869574748019684\n",
      "{'activation': 'tanh', 'alpha': 0.05, 'hidden_layer_sizes': (100, 200, 300), 'learning_rate': 'constant', 'solver': 'adam'}\n"
     ]
    }
   ],
   "source": [
    "model_parameter_tuning(x_train,y_train,mlp,parameters_mlp,4,ids)"
   ]
  },
  {
   "cell_type": "markdown",
   "metadata": {},
   "source": [
    "We are going to use MLP Classifier as the final model\n"
   ]
  },
  {
   "cell_type": "markdown",
   "metadata": {},
   "source": [
    "We can see that the score of MLP classifer after hyperparameter tuning is less than the basic model\n"
   ]
  },
  {
   "cell_type": "code",
   "execution_count": 58,
   "metadata": {},
   "outputs": [],
   "source": [
    "#print(id_preds)\n",
    "active_ = {}\n",
    "for val in df_train.values:\n",
    "    val = list(val)\n",
    "    id = val.pop(0) ## pop ncodpers (customer id)\n",
    "    ## active columna\n",
    "    active  = [c[0] for c in zip(df_train.columns[1:],val) if c[1] > 0]\n",
    "    active_[id] = active\n",
    "    \n",
    "train_preds = {}\n",
    "for id,val in id_preds.items():\n",
    "    preds = [i[0] for i in sorted([i for i in zip(df_train.columns[1:],val) if i[0] not in active_[id]], key=lambda i:i [1], reverse=True)[:7]]\n",
    "    train_preds[id] = preds\n"
   ]
  },
  {
   "cell_type": "code",
   "execution_count": 59,
   "metadata": {},
   "outputs": [
    {
     "data": {
      "text/plain": [
       "array([[103709, 'ind_tjcr_fin_ult1'],\n",
       "       [103710, 'ind_tjcr_fin_ult1'],\n",
       "       [103714, 'ind_tjcr_fin_ult1'],\n",
       "       [103717, 'ind_tjcr_fin_ult1'],\n",
       "       [103718, 'ind_tjcr_fin_ult1']], dtype=object)"
      ]
     },
     "execution_count": 59,
     "metadata": {},
     "output_type": "execute_result"
    }
   ],
   "source": [
    "sample.values[0:5]\n",
    "#This is what my model has predicted for the train set"
   ]
  },
  {
   "cell_type": "code",
   "execution_count": null,
   "metadata": {},
   "outputs": [],
   "source": [
    "test_preds = []\n",
    "for row in sample.values:\n",
    "    id = row[0]\n",
    "    p = train_preds[id]\n",
    "    test_preds.append(' '.join(p))\n",
    "\n",
    "sample['added_products'] = test_preds\n",
    "sample.to_csv('recommendation.csv',index=False)"
   ]
  }
 ],
 "metadata": {
  "kernelspec": {
   "display_name": "Python 3",
   "language": "python",
   "name": "python3"
  },
  "language_info": {
   "codemirror_mode": {
    "name": "ipython",
    "version": 3
   },
   "file_extension": ".py",
   "mimetype": "text/x-python",
   "name": "python",
   "nbconvert_exporter": "python",
   "pygments_lexer": "ipython3",
   "version": "3.7.3"
  }
 },
 "nbformat": 4,
 "nbformat_minor": 2
}
